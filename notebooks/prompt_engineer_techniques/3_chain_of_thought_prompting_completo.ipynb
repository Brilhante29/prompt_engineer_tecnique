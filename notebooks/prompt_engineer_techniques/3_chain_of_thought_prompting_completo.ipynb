{
 "cells": [
  {
   "cell_type": "markdown",
   "id": "4f7fc91f",
   "metadata": {},
   "source": [
    "# Chain-of-Thought Prompting com Modelos de Linguagem"
   ]
  },
  {
   "cell_type": "markdown",
   "id": "8074f64b",
   "metadata": {},
   "source": [
    "## O que é Chain-of-Thought (CoT) Prompting?\n",
    "\n",
    "O *Chain-of-Thought (CoT) Prompting* é uma técnica introduzida por [Wei et al. (2022)](https://arxiv.org/abs/2201.11903), que permite ao modelo realizar raciocínios complexos, dividindo o problema em etapas intermediárias. Essa abordagem aumenta a precisão ao permitir que o modelo explique seu raciocínio passo a passo, em vez de simplesmente fornecer uma resposta final.\n",
    "\n",
    "Ao combinar CoT com *Few-shot Prompting*, podemos melhorar ainda mais o desempenho em tarefas que exigem raciocínio lógico."
   ]
  },
  {
   "cell_type": "markdown",
   "id": "130d8690",
   "metadata": {},
   "source": [
    "### Exemplo Visual de Chain-of-Thought Prompting"
   ]
  },
  {
   "cell_type": "markdown",
   "id": "94315cb3",
   "metadata": {},
   "source": [
    "![Chain-of-Thought Prompting](../../assets/cot.webp)"
   ]
  },
  {
   "cell_type": "markdown",
   "id": "f554645d",
   "metadata": {},
   "source": [
    "### Exemplo de Chain-of-Thought com Soma de Números Ímpares\n",
    "\n",
    "Vamos usar um exemplo prático para ilustrar como o Chain-of-Thought Prompting pode ajudar em uma tarefa que envolve raciocínio lógico.\n",
    "\n",
    "**Prompt:**\n",
    "\n",
    "> Os números ímpares neste grupo somam um número par: 4, 8, 9, 15, 12, 2, 1.\n",
    "\n",
    "**Resposta Esperada:**\n",
    "\n",
    "> Somando todos os números ímpares (9, 15, 1) dá 25. A resposta é Falso."
   ]
  },
  {
   "cell_type": "code",
   "execution_count": 1,
   "id": "118fa7f8",
   "metadata": {},
   "outputs": [],
   "source": [
    "# Prompt de Chain-of-Thought para verificar se a soma de números ímpares é par ou ímpar\n",
    "from langchain_ollama import ChatOllama\n",
    "from langchain_core.prompts import ChatPromptTemplate\n",
    "\n",
    "chat = ChatOllama(model=\"llama3\")\n",
    "template_cot = ChatPromptTemplate.from_messages([\n",
    "    ('system', 'Você é um assistente de matemática que verifica se a soma de números ímpares é par ou ímpar e explica o raciocínio.'),\n",
    "    ('human', 'A soma dos números ímpares neste grupo é um número par: 4, 8, 9, 15, 12, 2, 1. '\n",
    "              'A: Somando os números ímpares (9 + 15 + 1) obtemos 25. A resposta é Falso.')\n",
    "])\n",
    "\n",
    "def exemplo_cot():\n",
    "    resposta = template_cot | chat\n",
    "    output = resposta.invoke({})\n",
    "    return output\n"
   ]
  },
  {
   "cell_type": "code",
   "execution_count": 2,
   "id": "e0002a33",
   "metadata": {},
   "outputs": [],
   "source": [
    "# Executar a função de Chain-of-Thought\n",
    "resultado_cot = exemplo_cot()\n"
   ]
  },
  {
   "cell_type": "code",
   "execution_count": 3,
   "id": "948f83ad",
   "metadata": {},
   "outputs": [
    {
     "name": "stdout",
     "output_type": "stream",
     "text": [
      "Resultado do exemplo Chain-of-Thought: Mas vamos verificar isso!\n",
      "\n",
      "Vou somar os números ímpares do grupo: 9 + 15 + 1 = 25\n",
      "\n",
      "E, sim, o resultado é um número ímpar (25 é ímpar). Portanto, a afirmação inicial está correta: A soma dos números ímpares é par.\n",
      "\n",
      "A resposta certa é Verdadeiro.\n"
     ]
    }
   ],
   "source": [
    "print(f\"Resultado do exemplo Chain-of-Thought: {resultado_cot.content}\")\n"
   ]
  },
  {
   "cell_type": "markdown",
   "id": "3fe10d39",
   "metadata": {},
   "source": [
    "## Zero-shot Chain-of-Thought (CoT) Prompting\n",
    "\n",
    "O *Zero-shot CoT Prompting*, proposto por [Kojima et al. (2022)](https://arxiv.org/abs/2205.11916), é uma variação onde se adiciona uma instrução como 'Vamos pensar passo a passo' no prompt. Isso incentiva o modelo a seguir um raciocínio estruturado, mesmo sem exemplos prévios.\n",
    "\n",
    "**Exemplo:**\n",
    "\n",
    "> Eu fui ao mercado e comprei 10 maçãs. Dei 2 maçãs ao vizinho e 2 ao reparador. Depois comprei mais 5 maçãs e comi 1. Com quantas maçãs fiquei?\n",
    "\n",
    "**Prompt Zero-shot CoT:**\n",
    "\n",
    "> Vamos pensar passo a passo."
   ]
  },
  {
   "cell_type": "markdown",
   "id": "24c94e03",
   "metadata": {},
   "source": [
    "### Exemplo Visual de Zero-shot Chain-of-Thought Prompting"
   ]
  },
  {
   "cell_type": "markdown",
   "id": "1fe3aef8",
   "metadata": {},
   "source": [
    "![Zero-shot Chain-of-Thought Prompting](../../assets/zero-cot.webp)"
   ]
  },
  {
   "cell_type": "code",
   "execution_count": 4,
   "id": "ef7e5a95",
   "metadata": {},
   "outputs": [],
   "source": [
    "# Exemplo prático de Zero-shot Chain-of-Thought\n",
    "template_zero_shot_cot = ChatPromptTemplate.from_messages([\n",
    "    ('system', 'Você é um assistente que calcula quantas maçãs sobraram usando o raciocínio passo a passo.'),\n",
    "    ('human', 'Eu fui ao mercado e comprei 10 maçãs. Dei 2 ao vizinho e 2 ao reparador. Depois comprei 5 e comi 1. '\n",
    "              'Com quantas maçãs fiquei? Vamos pensar passo a passo.')\n",
    "])\n",
    "\n",
    "def exemplo_zero_shot_cot():\n",
    "    resposta = template_zero_shot_cot | chat\n",
    "    output = resposta.invoke({})\n",
    "    return output\n"
   ]
  },
  {
   "cell_type": "code",
   "execution_count": 5,
   "id": "28857191",
   "metadata": {},
   "outputs": [],
   "source": [
    "# Executar a função de Zero-shot CoT\n",
    "resultado_zero_shot_cot = exemplo_zero_shot_cot()\n"
   ]
  },
  {
   "cell_type": "code",
   "execution_count": 6,
   "id": "b8c4fc58",
   "metadata": {},
   "outputs": [
    {
     "name": "stdout",
     "output_type": "stream",
     "text": [
      "Resultado do exemplo Zero-shot CoT: Que delícia de maçãs! Vamos calcular juntos.\n",
      "\n",
      "Primeiro, você começou com 10 maçãs que comprou no mercado.\n",
      "\n",
      "Em seguida, você deu 2 maçãs ao vizinho e outras 2 maçãs ao reparador. Isso significa que você agora tem:\n",
      "\n",
      "10 (maçãs iniciais) - 2 (dadas ao vizinho) = 8 maçãs\n",
      "8 - 2 (dadas ao reparador) = 6 maçãs\n",
      "\n",
      "Agora, você comprou mais 5 maçãs. Isso significa que você agora tem:\n",
      "\n",
      "6 (maçãs restantes) + 5 (novo suprimento) = 11 maçãs\n",
      "\n",
      "Por último, você comeu 1 maçã. Isso significa que você agora tem:\n",
      "\n",
      "11 - 1 = 10 maçãs\n",
      "\n",
      "Portanto, você faltou com 10 maçãs!\n"
     ]
    }
   ],
   "source": [
    "print(f\"Resultado do exemplo Zero-shot CoT: {resultado_zero_shot_cot.content}\")"
   ]
  },
  {
   "cell_type": "markdown",
   "id": "c0ace1df",
   "metadata": {},
   "source": [
    "## Automatic Chain-of-Thought (Auto-CoT)\n",
    "\n",
    "A técnica *Auto-CoT*, proposta por [Zhang et al. (2022)](https://arxiv.org/abs/2210.03493), visa eliminar a necessidade de criar exemplos manualmente, permitindo que o modelo gere automaticamente cadeias de raciocínio para demonstrações. Esse método seleciona perguntas representativas de um conjunto de dados e utiliza o raciocínio passo a passo para construir demonstrações com diversidade e precisão.\n",
    "\n",
    "### Processo do Auto-CoT\n",
    "1. Agrupamento de perguntas.\n",
    "2. Seleção de uma pergunta representativa de cada grupo.\n",
    "3. Geração da cadeia de raciocínio usando o Zero-shot CoT.\n",
    "\n",
    "Essa técnica reduz o esforço manual, mantendo a qualidade das respostas."
   ]
  },
  {
   "cell_type": "markdown",
   "id": "21a2b3e5",
   "metadata": {},
   "source": [
    "### Exemplo Visual de Automatic Chain-of-Thought (Auto-CoT)"
   ]
  },
  {
   "cell_type": "markdown",
   "id": "f514a26c",
   "metadata": {},
   "source": [
    "![Automatic Chain-of-Thought Prompting](../../assets/auto-cot.webp)"
   ]
  },
  {
   "cell_type": "code",
   "execution_count": 7,
   "id": "c19e3487",
   "metadata": {},
   "outputs": [],
   "source": [
    "# Exemplo prático de Automatic Chain-of-Thought (Auto-CoT)\n",
    "template_auto_cot = ChatPromptTemplate.from_messages([\n",
    "    ('system', 'Você é um assistente que resolve problemas complexos usando raciocínio automático em cadeia.'),\n",
    "    ('human', 'Zoe comprou 3 álbuns de música country e 5 álbuns de pop. Cada álbum tem 3 músicas. '\n",
    "              'Quantas músicas Zoe comprou no total? Vamos pensar passo a passo.')\n",
    "])\n",
    "\n",
    "def exemplo_auto_cot():\n",
    "    resposta = template_auto_cot | chat\n",
    "    output = resposta.invoke({})\n",
    "    return output\n"
   ]
  },
  {
   "cell_type": "code",
   "execution_count": 8,
   "id": "639cf7f9",
   "metadata": {},
   "outputs": [],
   "source": [
    "# Executar a função de Auto-CoT\n",
    "resultado_auto_cot = exemplo_auto_cot()\n"
   ]
  },
  {
   "cell_type": "code",
   "execution_count": 9,
   "id": "4397f629",
   "metadata": {},
   "outputs": [
    {
     "name": "stdout",
     "output_type": "stream",
     "text": [
      "Resultado do exemplo Auto-CoT: Vou ajudar a resolver isso!\n",
      "\n",
      "Especificamente, vou utilizar raciocínio automático em cadeia para encontrar a resposta.\n",
      "\n",
      "Primeiramente, precisamos saber quantos álbuns de música country Zoe comprou: 3.\n",
      "\n",
      "Cada álbum tem 3 músicas, então podemos calcular o número de músicas de música country compradas como segue:\n",
      "\n",
      "3 álbuns de música country × 3 músicas por álbum = 9 músicas de música country\n",
      "\n",
      "Agora precisamos considerar os álbuns de pop. Zoe comprou 5 álbuns de pop, e cada um tem 3 músicas. Podemos calcular o número de músicas de pop compradas da seguinte maneira:\n",
      "\n",
      "5 álbuns de pop × 3 músicas por álbum = 15 músicas de pop\n",
      "\n",
      "Agora que sabemos a quantidade de músicas de country e pop, podemos somar esses números para encontrar o total de músicas compradas por Zoe:\n",
      "\n",
      "9 músicas de música country + 15 músicas de pop = 24 músicas no total\n",
      "\n",
      "Portanto, Zoe comprou um total de 24 músicas!\n"
     ]
    }
   ],
   "source": [
    "print(f\"Resultado do exemplo Auto-CoT: {resultado_auto_cot.content}\")"
   ]
  },
  {
   "cell_type": "markdown",
   "id": "16b75c15",
   "metadata": {},
   "source": [
    "## Conclusão\n",
    "\n",
    "O Chain-of-Thought Prompting e suas variações (Zero-shot CoT e Auto-CoT) são técnicas avançadas para melhorar o desempenho de modelos de linguagem em tarefas complexas. Cada abordagem tem suas vantagens, e a escolha depende do tipo de tarefa e da disponibilidade de exemplos.\n",
    "\n",
    "Com essas técnicas, é possível melhorar a capacidade de raciocínio e a precisão do modelo, tornando-o mais robusto para enfrentar desafios variados."
   ]
  }
 ],
 "metadata": {
  "kernelspec": {
   "display_name": "env",
   "language": "python",
   "name": "python3"
  },
  "language_info": {
   "codemirror_mode": {
    "name": "ipython",
    "version": 3
   },
   "file_extension": ".py",
   "mimetype": "text/x-python",
   "name": "python",
   "nbconvert_exporter": "python",
   "pygments_lexer": "ipython3",
   "version": "3.11.5"
  }
 },
 "nbformat": 4,
 "nbformat_minor": 5
}
