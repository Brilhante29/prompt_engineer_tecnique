{
 "cells": [
  {
   "cell_type": "markdown",
   "id": "5718e8f8",
   "metadata": {},
   "source": [
    "# Few-shot Prompting com Modelos de Linguagem"
   ]
  },
  {
   "cell_type": "markdown",
   "id": "e433e677",
   "metadata": {},
   "source": [
    "## Introdução ao Few-shot Prompting\n",
    "\n",
    "Embora modelos de linguagem de grande escala demonstrem notáveis capacidades de zero-shot, eles ainda podem falhar em tarefas mais complexas. O **Few-shot Prompting** é uma técnica que permite o aprendizado no contexto ao fornecer exemplos no prompt para guiar o modelo e melhorar seu desempenho. Essas demonstrações servem como uma forma de 'condicionamento' para as respostas subsequentes, orientando o modelo a responder de forma mais precisa em novas instâncias.\n",
    "\n",
    "De acordo com [Touvron et al. (2023)](https://arxiv.org/pdf/2302.13971), as propriedades de few-shot começaram a surgir quando os modelos atingiram um tamanho suficientemente grande, como discutido também por [Kaplan et al. (2020)](https://arxiv.org/abs/2001.08361)."
   ]
  },
  {
   "cell_type": "markdown",
   "id": "7b8c1e50",
   "metadata": {},
   "source": [
    "### Exemplo de Few-shot Prompting inspirado em Brown et al. (2020)\n",
    "\n",
    "Vamos demonstrar o Few-shot Prompting com um exemplo que foi apresentado por [Brown et al. (2020)](https://arxiv.org/abs/2005.14165). No exemplo, a tarefa é usar corretamente uma nova palavra em uma frase, fornecendo apenas um exemplo para orientar o modelo.\n",
    "\n",
    "- **Prompt**:\n",
    "  - A palavra *'whatpu'* é um animal pequeno e peludo nativo da Tanzânia. Um exemplo de uso em uma frase é: 'Enquanto viajávamos na África, vimos esses adoráveis whatpus.'\n",
    "  - Fazer um *'farduddle'* significa pular para cima e para baixo muito rápido. Um exemplo de frase usando a palavra farduddle é:\n",
    "\n",
    "Esperamos que o modelo, ao ver um exemplo, consiga aprender o padrão de uso de novas palavras e replicá-lo em contextos semelhantes."
   ]
  },
  {
   "cell_type": "code",
   "execution_count": null,
   "id": "015097c5",
   "metadata": {},
   "outputs": [],
   "source": [
    "from langchain_ollama import ChatOllama\n",
    "from langchain_core.prompts import ChatPromptTemplate"
   ]
  },
  {
   "cell_type": "code",
   "execution_count": null,
   "id": "a4f15cf3",
   "metadata": {},
   "outputs": [],
   "source": [
    "# Configuração do modelo\n",
    "chat = ChatOllama(model=\"llama3\")"
   ]
  },
  {
   "cell_type": "code",
   "execution_count": null,
   "id": "d7a00ff5",
   "metadata": {},
   "outputs": [],
   "source": [
    "# Prompt de few-shot para uso correto de novas palavras\n",
    "template_few_shot_example = ChatPromptTemplate.from_messages([\n",
    "    ('system', 'Você é um assistente que ensina novas palavras usando exemplos.'),\n",
    "    ('human', 'Uma palavra \"whatpu\" é um pequeno animal peludo nativo da Tanzânia. Um exemplo de frase usando a palavra \"whatpu\" é: '\n",
    "              '\"Enquanto viajávamos na África, vimos esses adoráveis whatpus.\"\\n'\n",
    "              'Fazer um \"farduddle\" significa pular para cima e para baixo muito rápido. Um exemplo de frase usando a palavra \"farduddle\" é:')\n",
    "])\n",
    "\n",
    "def exemplo_few_shot_prompting():\n",
    "    # Invoca o modelo com o exemplo de Few-shot Prompting\n",
    "    resposta = template_few_shot_example | chat\n",
    "    output = resposta.invoke({})\n",
    "    return output\n",
    "\n"
   ]
  },
  {
   "cell_type": "code",
   "execution_count": 5,
   "id": "0bcd44b3",
   "metadata": {},
   "outputs": [],
   "source": [
    "# Executar a função de exemplo de Few-shot Prompting\n",
    "resultado_exemplo_few_shot = exemplo_few_shot_prompting()"
   ]
  },
  {
   "cell_type": "code",
   "execution_count": 6,
   "id": "6d2bee95",
   "metadata": {},
   "outputs": [
    {
     "name": "stdout",
     "output_type": "stream",
     "text": [
      "Resultado do Exemplo Few-shot: I love learning new words!\n",
      "\n",
      "It seems like you're teaching me some exciting words today! According to your example, a \"whatpu\" is a small, furry animal native to Tanzania, and one would say something like: \"While traveling in Africa, we saw those adorable whatpus.\"\n",
      "\n",
      "And now, let's talk about the word \"farduddle\"! From what you've told me, it seems that \"farduddle\" means to jump up and down very quickly. An example sentence using this word could be:\n",
      "\n",
      "\"After hearing the news, I started farduddling with excitement!\"\n",
      "\n",
      "Am I right?\n"
     ]
    }
   ],
   "source": [
    "print(f\"Resultado do Exemplo Few-shot: {resultado_exemplo_few_shot.content}\")"
   ]
  },
  {
   "cell_type": "markdown",
   "id": "f996e77d",
   "metadata": {},
   "source": [
    "## Dicas para uso de Exemplos em Few-shot Prompting\n",
    "\n",
    "Com base nos achados de [Min et al. (2022)](https://arxiv.org/abs/2202.12837), aqui estão algumas dicas para otimizar o uso de exemplos no Few-shot Prompting:\n",
    "\n",
    "1. **Espaço de Rótulos e Distribuição de Texto**: A variedade e o conteúdo dos textos especificados nos exemplos são importantes, independentemente de os rótulos estarem corretos para cada entrada.\n",
    "2. **Formato**: O formato dos exemplos também impacta o desempenho. Manter um formato consistente é útil, mas até rótulos aleatórios de uma distribuição realista podem ajudar.\n",
    "3. **Distribuição Real dos Rótulos**: Selecionar rótulos de uma distribuição verdadeira, em vez de uma distribuição uniforme, também pode melhorar os resultados."
   ]
  },
  {
   "cell_type": "markdown",
   "id": "68c45ba7",
   "metadata": {},
   "source": [
    "### Exemplo de Few-shot com Rótulos Aleatórios\n",
    "\n",
    "Vamos testar o modelo com um exemplo onde os rótulos **Positivo** e **Negativo** são atribuídos aleatoriamente para observar se o modelo consegue manter a consistência de classificação.\n",
    "\n",
    "- **Prompt**:\n",
    "  - 'Isso é incrível!' // Negativo\n",
    "  - 'Isso é ruim!' // Positivo\n",
    "  - 'Uau, aquele filme foi radical!' // Positivo\n",
    "  - 'Que show horrível!' //\n",
    "\n",
    "Esperamos que o modelo consiga classificar corretamente mesmo com rótulos embaralhados."
   ]
  },
  {
   "cell_type": "code",
   "execution_count": 7,
   "id": "98d3c522",
   "metadata": {},
   "outputs": [],
   "source": [
    "template_random_labels = ChatPromptTemplate.from_messages([\n",
    "    ('system', 'Você é um assistente especializado em análise de sentimentos.'),\n",
    "    ('human', 'Isso é incrível! // Negativo\\n'\n",
    "              'Isso é ruim! // Positivo\\n'\n",
    "              'Uau, aquele filme foi radical! // Positivo\\n'\n",
    "              'Que show horrível! //')\n",
    "])\n",
    "\n",
    "def classificar_com_rotulos_aleatorios():\n",
    "    # Invoca o modelo para classificação com rótulos aleatórios\n",
    "    resposta = template_random_labels | chat\n",
    "    output = resposta.invoke({})\n",
    "    return output\n"
   ]
  },
  {
   "cell_type": "code",
   "execution_count": 8,
   "id": "f41ffeb6",
   "metadata": {},
   "outputs": [],
   "source": [
    "# Executar a função de classificação com rótulos aleatórios\n",
    "resultado_rotulos_aleatorios = classificar_com_rotulos_aleatorios()\n"
   ]
  },
  {
   "cell_type": "code",
   "execution_count": 9,
   "id": "90bd4e10",
   "metadata": {},
   "outputs": [
    {
     "name": "stdout",
     "output_type": "stream",
     "text": [
      "Classificação com Rótulos Aleatórios (Few-shot): Negativo\n"
     ]
    }
   ],
   "source": [
    "print(f\"Classificação com Rótulos Aleatórios (Few-shot): {resultado_rotulos_aleatorios.content}\")"
   ]
  },
  {
   "cell_type": "markdown",
   "id": "f4a87a65",
   "metadata": {},
   "source": [
    "## Limitações do Few-shot Prompting\n",
    "\n",
    "Embora o Few-shot Prompting funcione bem para muitas tarefas, ele não é uma técnica perfeita, especialmente em problemas de raciocínio mais complexos. Como exemplo, considere o seguinte problema:\n",
    "\n",
    "- Os números ímpares deste grupo somam um número par? 15, 32, 5, 13, 82, 7, 1.\n",
    "\n",
    "Ao tentar resolver esse problema, o modelo pode cometer erros de raciocínio, destacando a necessidade de técnicas de prompting mais avançadas em algumas situações."
   ]
  },
  {
   "cell_type": "code",
   "execution_count": 10,
   "id": "e13313b8",
   "metadata": {},
   "outputs": [],
   "source": [
    "template_sum_problem = ChatPromptTemplate.from_messages([\n",
    "    ('system', 'Você é um assistente que verifica se a soma de números ímpares é par ou ímpar.'),\n",
    "    ('human', 'A soma dos números ímpares neste grupo é um número par: 15, 32, 5, 13, 82, 7, 1. A resposta é:')\n",
    "])\n",
    "\n",
    "def verificar_limite_few_shot():\n",
    "    # Invoca o modelo para verificar a limitação com um problema matemático\n",
    "    resposta = template_sum_problem | chat\n",
    "    output = resposta.invoke({})\n",
    "    return output\n"
   ]
  },
  {
   "cell_type": "code",
   "execution_count": 11,
   "id": "e3e2ed76",
   "metadata": {},
   "outputs": [],
   "source": [
    "# Executar a função de verificação de limitação\n",
    "resultado_limite_few_shot = verificar_limite_few_shot()\n"
   ]
  },
  {
   "cell_type": "code",
   "execution_count": 12,
   "id": "1e3e8e48",
   "metadata": {},
   "outputs": [
    {
     "name": "stdout",
     "output_type": "stream",
     "text": [
      "Resultado da Verificação de Limite (Few-shot): Para verificar se a soma é par ou ímpar, basta somar os números ímpares e verificar o resultado.\n",
      "\n",
      "Os números ímpares do grupo são: 15, 5, 13, 7, 1.\n",
      "\n",
      "A soma desses números é:\n",
      "15 + 5 = 20\n",
      "20 + 13 = 33\n",
      "33 + 7 = 40\n",
      "40 + 1 = 41\n",
      "\n",
      "A soma dos números ímpares é 41, que é um número ímpar.\n"
     ]
    }
   ],
   "source": [
    "print(f\"Resultado da Verificação de Limite (Few-shot): {resultado_limite_few_shot.content}\")\n"
   ]
  },
  {
   "cell_type": "markdown",
   "id": "5bd1402e",
   "metadata": {},
   "source": [
    "## Conclusão\n",
    "\n",
    "O Few-shot Prompting permite ao modelo aprender padrões a partir de exemplos, mas enfrenta dificuldades com tarefas que envolvem múltiplos passos de raciocínio. Para problemas mais complexos, onde o Few-shot Prompting pode falhar, recomenda-se explorar técnicas como o **Chain-of-Thought Prompting**. Essa abordagem pode ser especialmente útil para problemas matemáticos, de bom senso e de raciocínio simbólico, como discutido em estudos recentes."
   ]
  }
 ],
 "metadata": {
  "kernelspec": {
   "display_name": "env",
   "language": "python",
   "name": "python3"
  },
  "language_info": {
   "codemirror_mode": {
    "name": "ipython",
    "version": 3
   },
   "file_extension": ".py",
   "mimetype": "text/x-python",
   "name": "python",
   "nbconvert_exporter": "python",
   "pygments_lexer": "ipython3",
   "version": "3.11.5"
  }
 },
 "nbformat": 4,
 "nbformat_minor": 5
}
